{
 "cells": [
  {
   "cell_type": "markdown",
   "metadata": {},
   "source": [
    "# Plant Disease Detection using Logistic Regression"
   ]
  },
  {
   "cell_type": "code",
   "execution_count": 1,
   "metadata": {},
   "outputs": [
    {
     "name": "stdout",
     "output_type": "stream",
     "text": [
      "F:\\PlantDiseasesDetection\n",
      "['.ipynb_checkpoints', 'DecisionTree_PlantDisease.ipynb', 'LogisticRegression_PlantDisease.ipynb', 'Plant detection SVM.ipynb', 'Plant Disease Detection using Keras.ipynb', 'Plant Disease Detection using Keras_2.ipynb', 'PlantDisease', 'PlantVillage', 'PlantVillage-Dataset', 'Test.ipynb', 'Test2.ipynb']\n"
     ]
    }
   ],
   "source": [
    "import os\n",
    "print(os.getcwd())\n",
    "print(os.listdir())"
   ]
  },
  {
   "cell_type": "code",
   "execution_count": 2,
   "metadata": {},
   "outputs": [
    {
     "name": "stdout",
     "output_type": "stream",
     "text": [
      "['Apple___Apple_scab', 'Apple___Black_rot', 'Apple___Cedar_apple_rust', 'Apple___healthy', 'Blueberry___healthy', 'Cherry_(including_sour)___healthy', 'Cherry_(including_sour)___Powdery_mildew', 'Corn_(maize)___Cercospora_leaf_spot Gray_leaf_spot', 'Corn_(maize)___Common_rust_', 'Corn_(maize)___healthy', 'Corn_(maize)___Northern_Leaf_Blight', 'Grape___Black_rot', 'Grape___Esca_(Black_Measles)', 'Grape___healthy', 'Grape___Leaf_blight_(Isariopsis_Leaf_Spot)', 'Orange___Haunglongbing_(Citrus_greening)', 'Peach___Bacterial_spot', 'Peach___healthy', 'Pepper,_bell___Bacterial_spot', 'Pepper,_bell___healthy', 'Potato___Early_blight', 'Potato___healthy', 'Potato___Late_blight', 'Raspberry___healthy', 'Soybean___healthy', 'Squash___Powdery_mildew', 'Strawberry___healthy', 'Strawberry___Leaf_scorch', 'Tomato___Bacterial_spot', 'Tomato___Early_blight', 'Tomato___healthy', 'Tomato___Late_blight', 'Tomato___Leaf_Mold', 'Tomato___Septoria_leaf_spot', 'Tomato___Spider_mites Two-spotted_spider_mite', 'Tomato___Target_Spot', 'Tomato___Tomato_mosaic_virus', 'Tomato___Tomato_Yellow_Leaf_Curl_Virus']\n"
     ]
    }
   ],
   "source": [
    "folder = 'F:\\PlantDiseasesDetection\\PlantDisease'\n",
    "print(os.listdir(folder))"
   ]
  },
  {
   "cell_type": "code",
   "execution_count": 3,
   "metadata": {},
   "outputs": [],
   "source": [
    "import os\n",
    "import numpy as np\n",
    "import pandas as pd\n",
    "from sklearn.model_selection import train_test_split\n",
    "from sklearn.preprocessing import StandardScaler\n",
    "from sklearn.linear_model import LogisticRegression\n",
    "from sklearn.metrics import confusion_matrix, accuracy_score\n",
    "import matplotlib.pyplot as plt\n",
    "from sklearn.decomposition import PCA"
   ]
  },
  {
   "cell_type": "code",
   "execution_count": 4,
   "metadata": {},
   "outputs": [
    {
     "data": {
      "text/plain": [
       "['Apple___Apple_scab',\n",
       " 'Apple___Black_rot',\n",
       " 'Apple___Cedar_apple_rust',\n",
       " 'Apple___healthy',\n",
       " 'Blueberry___healthy',\n",
       " 'Cherry_(including_sour)___healthy',\n",
       " 'Cherry_(including_sour)___Powdery_mildew',\n",
       " 'Corn_(maize)___Cercospora_leaf_spot Gray_leaf_spot',\n",
       " 'Corn_(maize)___Common_rust_',\n",
       " 'Corn_(maize)___healthy',\n",
       " 'Corn_(maize)___Northern_Leaf_Blight',\n",
       " 'Grape___Black_rot',\n",
       " 'Grape___Esca_(Black_Measles)',\n",
       " 'Grape___healthy',\n",
       " 'Grape___Leaf_blight_(Isariopsis_Leaf_Spot)',\n",
       " 'Orange___Haunglongbing_(Citrus_greening)',\n",
       " 'Peach___Bacterial_spot',\n",
       " 'Peach___healthy',\n",
       " 'Pepper,_bell___Bacterial_spot',\n",
       " 'Pepper,_bell___healthy',\n",
       " 'Potato___Early_blight',\n",
       " 'Potato___healthy',\n",
       " 'Potato___Late_blight',\n",
       " 'Raspberry___healthy',\n",
       " 'Soybean___healthy',\n",
       " 'Squash___Powdery_mildew',\n",
       " 'Strawberry___healthy',\n",
       " 'Strawberry___Leaf_scorch',\n",
       " 'Tomato___Bacterial_spot',\n",
       " 'Tomato___Early_blight',\n",
       " 'Tomato___healthy',\n",
       " 'Tomato___Late_blight',\n",
       " 'Tomato___Leaf_Mold',\n",
       " 'Tomato___Septoria_leaf_spot',\n",
       " 'Tomato___Spider_mites Two-spotted_spider_mite',\n",
       " 'Tomato___Target_Spot',\n",
       " 'Tomato___Tomato_mosaic_virus',\n",
       " 'Tomato___Tomato_Yellow_Leaf_Curl_Virus']"
      ]
     },
     "execution_count": 4,
     "metadata": {},
     "output_type": "execute_result"
    }
   ],
   "source": [
    "list_of_dir = os.listdir(folder)\n",
    "list_of_dir"
   ]
  },
  {
   "cell_type": "code",
   "execution_count": 5,
   "metadata": {},
   "outputs": [],
   "source": [
    "def create(location, var):\n",
    "    import cv2\n",
    "    import glob\n",
    "    X_data = []\n",
    "    files = glob.glob(\"F:\\\\PlantDiseasesDetection\\\\PlantDisease\\\\\" + location + \"\\\\*.JPG\")\n",
    "    for file in files[:200]:\n",
    "        image = cv2.imread (file)\n",
    "        image = cv2.resize(image, (64,64))\n",
    "        X_data.append (image)\n",
    "    print('X_data shape:', np.array(X_data).shape)\n",
    "    numpy_entry = np.array(X_data).reshape(np.array(X_data).shape[0] ,-1)\n",
    "    print('numpy_entry shape:', numpy_entry.shape)\n",
    "    df=pd.DataFrame(data=numpy_entry[0:,0:], index=[i for i in range(numpy_entry.shape[0])], columns=['Pixel '+str(i) for i in range(numpy_entry.shape[1])])\n",
    "    df['Category'] = var\n",
    "    return df"
   ]
  },
  {
   "cell_type": "code",
   "execution_count": 6,
   "metadata": {},
   "outputs": [
    {
     "name": "stdout",
     "output_type": "stream",
     "text": [
      "X_data shape: (200, 64, 64, 3)\n",
      "numpy_entry shape: (200, 12288)\n",
      " Done For  Apple___Apple_scab  With category Value  1\n",
      "Master Data Frame    (200, 12289)\n",
      "\n",
      "X_data shape: (200, 64, 64, 3)\n",
      "numpy_entry shape: (200, 12288)\n",
      " Done For  Apple___Black_rot  With category Value  1\n",
      "Master Data Frame    (400, 12289)\n",
      "\n",
      "X_data shape: (200, 64, 64, 3)\n",
      "numpy_entry shape: (200, 12288)\n",
      " Done For  Apple___Cedar_apple_rust  With category Value  1\n",
      "Master Data Frame    (600, 12289)\n",
      "\n",
      "X_data shape: (200, 64, 64, 3)\n",
      "numpy_entry shape: (200, 12288)\n",
      " Done For  Apple___healthy  With category Value  0\n",
      "Master Data Frame    (800, 12289)\n",
      "\n",
      "X_data shape: (200, 64, 64, 3)\n",
      "numpy_entry shape: (200, 12288)\n",
      " Done For  Blueberry___healthy  With category Value  0\n",
      "Master Data Frame    (1000, 12289)\n",
      "\n",
      "X_data shape: (200, 64, 64, 3)\n",
      "numpy_entry shape: (200, 12288)\n",
      " Done For  Cherry_(including_sour)___healthy  With category Value  0\n",
      "Master Data Frame    (1200, 12289)\n",
      "\n",
      "X_data shape: (200, 64, 64, 3)\n",
      "numpy_entry shape: (200, 12288)\n",
      " Done For  Cherry_(including_sour)___Powdery_mildew  With category Value  1\n",
      "Master Data Frame    (1400, 12289)\n",
      "\n",
      "X_data shape: (200, 64, 64, 3)\n",
      "numpy_entry shape: (200, 12288)\n",
      " Done For  Corn_(maize)___Cercospora_leaf_spot Gray_leaf_spot  With category Value  1\n",
      "Master Data Frame    (1600, 12289)\n",
      "\n",
      "X_data shape: (200, 64, 64, 3)\n",
      "numpy_entry shape: (200, 12288)\n",
      " Done For  Corn_(maize)___Common_rust_  With category Value  1\n",
      "Master Data Frame    (1800, 12289)\n",
      "\n",
      "X_data shape: (200, 64, 64, 3)\n",
      "numpy_entry shape: (200, 12288)\n",
      " Done For  Corn_(maize)___healthy  With category Value  0\n",
      "Master Data Frame    (2000, 12289)\n",
      "\n",
      "X_data shape: (200, 64, 64, 3)\n",
      "numpy_entry shape: (200, 12288)\n",
      " Done For  Corn_(maize)___Northern_Leaf_Blight  With category Value  1\n",
      "Master Data Frame    (2200, 12289)\n",
      "\n",
      "X_data shape: (200, 64, 64, 3)\n",
      "numpy_entry shape: (200, 12288)\n",
      " Done For  Grape___Black_rot  With category Value  1\n",
      "Master Data Frame    (2400, 12289)\n",
      "\n",
      "X_data shape: (200, 64, 64, 3)\n",
      "numpy_entry shape: (200, 12288)\n",
      " Done For  Grape___Esca_(Black_Measles)  With category Value  1\n",
      "Master Data Frame    (2600, 12289)\n",
      "\n",
      "X_data shape: (200, 64, 64, 3)\n",
      "numpy_entry shape: (200, 12288)\n",
      " Done For  Grape___healthy  With category Value  0\n",
      "Master Data Frame    (2800, 12289)\n",
      "\n",
      "X_data shape: (200, 64, 64, 3)\n",
      "numpy_entry shape: (200, 12288)\n",
      " Done For  Grape___Leaf_blight_(Isariopsis_Leaf_Spot)  With category Value  1\n",
      "Master Data Frame    (3000, 12289)\n",
      "\n",
      "X_data shape: (200, 64, 64, 3)\n",
      "numpy_entry shape: (200, 12288)\n",
      " Done For  Orange___Haunglongbing_(Citrus_greening)  With category Value  1\n",
      "Master Data Frame    (3200, 12289)\n",
      "\n",
      "X_data shape: (200, 64, 64, 3)\n",
      "numpy_entry shape: (200, 12288)\n",
      " Done For  Peach___Bacterial_spot  With category Value  1\n",
      "Master Data Frame    (3400, 12289)\n",
      "\n",
      "X_data shape: (200, 64, 64, 3)\n",
      "numpy_entry shape: (200, 12288)\n",
      " Done For  Peach___healthy  With category Value  0\n",
      "Master Data Frame    (3600, 12289)\n",
      "\n",
      "X_data shape: (200, 64, 64, 3)\n",
      "numpy_entry shape: (200, 12288)\n",
      " Done For  Pepper,_bell___Bacterial_spot  With category Value  1\n",
      "Master Data Frame    (3800, 12289)\n",
      "\n",
      "X_data shape: (200, 64, 64, 3)\n",
      "numpy_entry shape: (200, 12288)\n",
      " Done For  Pepper,_bell___healthy  With category Value  0\n",
      "Master Data Frame    (4000, 12289)\n",
      "\n",
      "X_data shape: (200, 64, 64, 3)\n",
      "numpy_entry shape: (200, 12288)\n",
      " Done For  Potato___Early_blight  With category Value  1\n",
      "Master Data Frame    (4200, 12289)\n",
      "\n",
      "X_data shape: (152, 64, 64, 3)\n",
      "numpy_entry shape: (152, 12288)\n",
      " Done For  Potato___healthy  With category Value  0\n",
      "Master Data Frame    (4352, 12289)\n",
      "\n",
      "X_data shape: (200, 64, 64, 3)\n",
      "numpy_entry shape: (200, 12288)\n",
      " Done For  Potato___Late_blight  With category Value  1\n",
      "Master Data Frame    (4552, 12289)\n",
      "\n",
      "X_data shape: (200, 64, 64, 3)\n",
      "numpy_entry shape: (200, 12288)\n",
      " Done For  Raspberry___healthy  With category Value  0\n",
      "Master Data Frame    (4752, 12289)\n",
      "\n",
      "X_data shape: (200, 64, 64, 3)\n",
      "numpy_entry shape: (200, 12288)\n",
      " Done For  Soybean___healthy  With category Value  0\n",
      "Master Data Frame    (4952, 12289)\n",
      "\n",
      "X_data shape: (200, 64, 64, 3)\n",
      "numpy_entry shape: (200, 12288)\n",
      " Done For  Squash___Powdery_mildew  With category Value  1\n",
      "Master Data Frame    (5152, 12289)\n",
      "\n",
      "X_data shape: (200, 64, 64, 3)\n",
      "numpy_entry shape: (200, 12288)\n",
      " Done For  Strawberry___healthy  With category Value  0\n",
      "Master Data Frame    (5352, 12289)\n",
      "\n",
      "X_data shape: (200, 64, 64, 3)\n",
      "numpy_entry shape: (200, 12288)\n",
      " Done For  Strawberry___Leaf_scorch  With category Value  1\n",
      "Master Data Frame    (5552, 12289)\n",
      "\n",
      "X_data shape: (200, 64, 64, 3)\n",
      "numpy_entry shape: (200, 12288)\n",
      " Done For  Tomato___Bacterial_spot  With category Value  1\n",
      "Master Data Frame    (5752, 12289)\n",
      "\n",
      "X_data shape: (200, 64, 64, 3)\n",
      "numpy_entry shape: (200, 12288)\n",
      " Done For  Tomato___Early_blight  With category Value  1\n",
      "Master Data Frame    (5952, 12289)\n",
      "\n",
      "X_data shape: (200, 64, 64, 3)\n",
      "numpy_entry shape: (200, 12288)\n",
      " Done For  Tomato___healthy  With category Value  0\n",
      "Master Data Frame    (6152, 12289)\n",
      "\n",
      "X_data shape: (200, 64, 64, 3)\n",
      "numpy_entry shape: (200, 12288)\n",
      " Done For  Tomato___Late_blight  With category Value  1\n",
      "Master Data Frame    (6352, 12289)\n",
      "\n",
      "X_data shape: (200, 64, 64, 3)\n",
      "numpy_entry shape: (200, 12288)\n",
      " Done For  Tomato___Leaf_Mold  With category Value  1\n",
      "Master Data Frame    (6552, 12289)\n",
      "\n",
      "X_data shape: (200, 64, 64, 3)\n",
      "numpy_entry shape: (200, 12288)\n",
      " Done For  Tomato___Septoria_leaf_spot  With category Value  1\n",
      "Master Data Frame    (6752, 12289)\n",
      "\n",
      "X_data shape: (200, 64, 64, 3)\n",
      "numpy_entry shape: (200, 12288)\n",
      " Done For  Tomato___Spider_mites Two-spotted_spider_mite  With category Value  1\n",
      "Master Data Frame    (6952, 12289)\n",
      "\n",
      "X_data shape: (200, 64, 64, 3)\n",
      "numpy_entry shape: (200, 12288)\n",
      " Done For  Tomato___Target_Spot  With category Value  1\n",
      "Master Data Frame    (7152, 12289)\n",
      "\n",
      "X_data shape: (200, 64, 64, 3)\n",
      "numpy_entry shape: (200, 12288)\n",
      " Done For  Tomato___Tomato_mosaic_virus  With category Value  1\n",
      "Master Data Frame    (7352, 12289)\n",
      "\n",
      "X_data shape: (200, 64, 64, 3)\n",
      "numpy_entry shape: (200, 12288)\n",
      " Done For  Tomato___Tomato_Yellow_Leaf_Curl_Virus  With category Value  1\n",
      "Master Data Frame    (7552, 12289)\n",
      "\n"
     ]
    }
   ],
   "source": [
    "master_df=pd.DataFrame(columns=['Pixel '+str(i) for i in range(64*64*3)])\n",
    "for i in list_of_dir:\n",
    "    if i.split(\"_\")[-1] == 'healthy' :\n",
    "        var = 0\n",
    "    else:\n",
    "        var = 1\n",
    "    df = create(i,var)\n",
    "    frames=[master_df , df]\n",
    "    master_df = pd.concat(frames)\n",
    "    print(\" Done For \",i,\" With category Value \",var)\n",
    "    print(\"Master Data Frame   \",master_df.shape)\n",
    "    print()"
   ]
  },
  {
   "cell_type": "code",
   "execution_count": 7,
   "metadata": {},
   "outputs": [
    {
     "data": {
      "text/html": [
       "<div>\n",
       "<style scoped>\n",
       "    .dataframe tbody tr th:only-of-type {\n",
       "        vertical-align: middle;\n",
       "    }\n",
       "\n",
       "    .dataframe tbody tr th {\n",
       "        vertical-align: top;\n",
       "    }\n",
       "\n",
       "    .dataframe thead th {\n",
       "        text-align: right;\n",
       "    }\n",
       "</style>\n",
       "<table border=\"1\" class=\"dataframe\">\n",
       "  <thead>\n",
       "    <tr style=\"text-align: right;\">\n",
       "      <th></th>\n",
       "      <th>Pixel 0</th>\n",
       "      <th>Pixel 1</th>\n",
       "      <th>Pixel 2</th>\n",
       "      <th>Pixel 3</th>\n",
       "      <th>Pixel 4</th>\n",
       "      <th>Pixel 5</th>\n",
       "      <th>Pixel 6</th>\n",
       "      <th>Pixel 7</th>\n",
       "      <th>Pixel 8</th>\n",
       "      <th>Pixel 9</th>\n",
       "      <th>...</th>\n",
       "      <th>Pixel 12279</th>\n",
       "      <th>Pixel 12280</th>\n",
       "      <th>Pixel 12281</th>\n",
       "      <th>Pixel 12282</th>\n",
       "      <th>Pixel 12283</th>\n",
       "      <th>Pixel 12284</th>\n",
       "      <th>Pixel 12285</th>\n",
       "      <th>Pixel 12286</th>\n",
       "      <th>Pixel 12287</th>\n",
       "      <th>Category</th>\n",
       "    </tr>\n",
       "  </thead>\n",
       "  <tbody>\n",
       "    <tr>\n",
       "      <th>0</th>\n",
       "      <td>198</td>\n",
       "      <td>165</td>\n",
       "      <td>169</td>\n",
       "      <td>196</td>\n",
       "      <td>163</td>\n",
       "      <td>167</td>\n",
       "      <td>198</td>\n",
       "      <td>165</td>\n",
       "      <td>169</td>\n",
       "      <td>200</td>\n",
       "      <td>...</td>\n",
       "      <td>132</td>\n",
       "      <td>105</td>\n",
       "      <td>121</td>\n",
       "      <td>132</td>\n",
       "      <td>105</td>\n",
       "      <td>121</td>\n",
       "      <td>135</td>\n",
       "      <td>108</td>\n",
       "      <td>124</td>\n",
       "      <td>1.0</td>\n",
       "    </tr>\n",
       "    <tr>\n",
       "      <th>1</th>\n",
       "      <td>175</td>\n",
       "      <td>124</td>\n",
       "      <td>131</td>\n",
       "      <td>174</td>\n",
       "      <td>123</td>\n",
       "      <td>130</td>\n",
       "      <td>176</td>\n",
       "      <td>125</td>\n",
       "      <td>132</td>\n",
       "      <td>174</td>\n",
       "      <td>...</td>\n",
       "      <td>113</td>\n",
       "      <td>77</td>\n",
       "      <td>85</td>\n",
       "      <td>113</td>\n",
       "      <td>78</td>\n",
       "      <td>85</td>\n",
       "      <td>116</td>\n",
       "      <td>80</td>\n",
       "      <td>88</td>\n",
       "      <td>1.0</td>\n",
       "    </tr>\n",
       "    <tr>\n",
       "      <th>2</th>\n",
       "      <td>177</td>\n",
       "      <td>135</td>\n",
       "      <td>123</td>\n",
       "      <td>175</td>\n",
       "      <td>133</td>\n",
       "      <td>121</td>\n",
       "      <td>176</td>\n",
       "      <td>134</td>\n",
       "      <td>122</td>\n",
       "      <td>176</td>\n",
       "      <td>...</td>\n",
       "      <td>142</td>\n",
       "      <td>110</td>\n",
       "      <td>111</td>\n",
       "      <td>142</td>\n",
       "      <td>110</td>\n",
       "      <td>111</td>\n",
       "      <td>138</td>\n",
       "      <td>106</td>\n",
       "      <td>107</td>\n",
       "      <td>1.0</td>\n",
       "    </tr>\n",
       "    <tr>\n",
       "      <th>3</th>\n",
       "      <td>222</td>\n",
       "      <td>205</td>\n",
       "      <td>214</td>\n",
       "      <td>220</td>\n",
       "      <td>203</td>\n",
       "      <td>212</td>\n",
       "      <td>211</td>\n",
       "      <td>194</td>\n",
       "      <td>203</td>\n",
       "      <td>202</td>\n",
       "      <td>...</td>\n",
       "      <td>185</td>\n",
       "      <td>172</td>\n",
       "      <td>193</td>\n",
       "      <td>189</td>\n",
       "      <td>170</td>\n",
       "      <td>190</td>\n",
       "      <td>189</td>\n",
       "      <td>173</td>\n",
       "      <td>191</td>\n",
       "      <td>1.0</td>\n",
       "    </tr>\n",
       "    <tr>\n",
       "      <th>4</th>\n",
       "      <td>178</td>\n",
       "      <td>145</td>\n",
       "      <td>149</td>\n",
       "      <td>182</td>\n",
       "      <td>149</td>\n",
       "      <td>153</td>\n",
       "      <td>181</td>\n",
       "      <td>148</td>\n",
       "      <td>152</td>\n",
       "      <td>178</td>\n",
       "      <td>...</td>\n",
       "      <td>116</td>\n",
       "      <td>85</td>\n",
       "      <td>94</td>\n",
       "      <td>114</td>\n",
       "      <td>83</td>\n",
       "      <td>92</td>\n",
       "      <td>113</td>\n",
       "      <td>82</td>\n",
       "      <td>91</td>\n",
       "      <td>1.0</td>\n",
       "    </tr>\n",
       "  </tbody>\n",
       "</table>\n",
       "<p>5 rows × 12289 columns</p>\n",
       "</div>"
      ],
      "text/plain": [
       "  Pixel 0 Pixel 1 Pixel 2 Pixel 3 Pixel 4 Pixel 5 Pixel 6 Pixel 7 Pixel 8  \\\n",
       "0     198     165     169     196     163     167     198     165     169   \n",
       "1     175     124     131     174     123     130     176     125     132   \n",
       "2     177     135     123     175     133     121     176     134     122   \n",
       "3     222     205     214     220     203     212     211     194     203   \n",
       "4     178     145     149     182     149     153     181     148     152   \n",
       "\n",
       "  Pixel 9  ... Pixel 12279 Pixel 12280 Pixel 12281 Pixel 12282 Pixel 12283  \\\n",
       "0     200  ...         132         105         121         132         105   \n",
       "1     174  ...         113          77          85         113          78   \n",
       "2     176  ...         142         110         111         142         110   \n",
       "3     202  ...         185         172         193         189         170   \n",
       "4     178  ...         116          85          94         114          83   \n",
       "\n",
       "  Pixel 12284 Pixel 12285 Pixel 12286 Pixel 12287 Category  \n",
       "0         121         135         108         124      1.0  \n",
       "1          85         116          80          88      1.0  \n",
       "2         111         138         106         107      1.0  \n",
       "3         190         189         173         191      1.0  \n",
       "4          92         113          82          91      1.0  \n",
       "\n",
       "[5 rows x 12289 columns]"
      ]
     },
     "execution_count": 7,
     "metadata": {},
     "output_type": "execute_result"
    }
   ],
   "source": [
    "master_df.head()"
   ]
  },
  {
   "cell_type": "code",
   "execution_count": 8,
   "metadata": {},
   "outputs": [
    {
     "data": {
      "text/html": [
       "<div>\n",
       "<style scoped>\n",
       "    .dataframe tbody tr th:only-of-type {\n",
       "        vertical-align: middle;\n",
       "    }\n",
       "\n",
       "    .dataframe tbody tr th {\n",
       "        vertical-align: top;\n",
       "    }\n",
       "\n",
       "    .dataframe thead th {\n",
       "        text-align: right;\n",
       "    }\n",
       "</style>\n",
       "<table border=\"1\" class=\"dataframe\">\n",
       "  <thead>\n",
       "    <tr style=\"text-align: right;\">\n",
       "      <th></th>\n",
       "      <th>Pixel 0</th>\n",
       "      <th>Pixel 1</th>\n",
       "      <th>Pixel 2</th>\n",
       "      <th>Pixel 3</th>\n",
       "      <th>Pixel 4</th>\n",
       "      <th>Pixel 5</th>\n",
       "      <th>Pixel 6</th>\n",
       "      <th>Pixel 7</th>\n",
       "      <th>Pixel 8</th>\n",
       "      <th>Pixel 9</th>\n",
       "      <th>...</th>\n",
       "      <th>Pixel 12279</th>\n",
       "      <th>Pixel 12280</th>\n",
       "      <th>Pixel 12281</th>\n",
       "      <th>Pixel 12282</th>\n",
       "      <th>Pixel 12283</th>\n",
       "      <th>Pixel 12284</th>\n",
       "      <th>Pixel 12285</th>\n",
       "      <th>Pixel 12286</th>\n",
       "      <th>Pixel 12287</th>\n",
       "      <th>Category</th>\n",
       "    </tr>\n",
       "  </thead>\n",
       "  <tbody>\n",
       "    <tr>\n",
       "      <th>195</th>\n",
       "      <td>152</td>\n",
       "      <td>152</td>\n",
       "      <td>168</td>\n",
       "      <td>147</td>\n",
       "      <td>147</td>\n",
       "      <td>163</td>\n",
       "      <td>144</td>\n",
       "      <td>144</td>\n",
       "      <td>160</td>\n",
       "      <td>145</td>\n",
       "      <td>...</td>\n",
       "      <td>81</td>\n",
       "      <td>87</td>\n",
       "      <td>110</td>\n",
       "      <td>82</td>\n",
       "      <td>88</td>\n",
       "      <td>111</td>\n",
       "      <td>75</td>\n",
       "      <td>81</td>\n",
       "      <td>104</td>\n",
       "      <td>1.0</td>\n",
       "    </tr>\n",
       "    <tr>\n",
       "      <th>196</th>\n",
       "      <td>116</td>\n",
       "      <td>117</td>\n",
       "      <td>127</td>\n",
       "      <td>119</td>\n",
       "      <td>120</td>\n",
       "      <td>130</td>\n",
       "      <td>119</td>\n",
       "      <td>120</td>\n",
       "      <td>130</td>\n",
       "      <td>115</td>\n",
       "      <td>...</td>\n",
       "      <td>142</td>\n",
       "      <td>138</td>\n",
       "      <td>149</td>\n",
       "      <td>148</td>\n",
       "      <td>144</td>\n",
       "      <td>155</td>\n",
       "      <td>143</td>\n",
       "      <td>139</td>\n",
       "      <td>150</td>\n",
       "      <td>1.0</td>\n",
       "    </tr>\n",
       "    <tr>\n",
       "      <th>197</th>\n",
       "      <td>129</td>\n",
       "      <td>128</td>\n",
       "      <td>144</td>\n",
       "      <td>117</td>\n",
       "      <td>116</td>\n",
       "      <td>132</td>\n",
       "      <td>129</td>\n",
       "      <td>128</td>\n",
       "      <td>144</td>\n",
       "      <td>123</td>\n",
       "      <td>...</td>\n",
       "      <td>153</td>\n",
       "      <td>147</td>\n",
       "      <td>164</td>\n",
       "      <td>156</td>\n",
       "      <td>150</td>\n",
       "      <td>167</td>\n",
       "      <td>149</td>\n",
       "      <td>143</td>\n",
       "      <td>160</td>\n",
       "      <td>1.0</td>\n",
       "    </tr>\n",
       "    <tr>\n",
       "      <th>198</th>\n",
       "      <td>144</td>\n",
       "      <td>150</td>\n",
       "      <td>149</td>\n",
       "      <td>144</td>\n",
       "      <td>150</td>\n",
       "      <td>149</td>\n",
       "      <td>142</td>\n",
       "      <td>148</td>\n",
       "      <td>147</td>\n",
       "      <td>142</td>\n",
       "      <td>...</td>\n",
       "      <td>102</td>\n",
       "      <td>103</td>\n",
       "      <td>101</td>\n",
       "      <td>102</td>\n",
       "      <td>103</td>\n",
       "      <td>101</td>\n",
       "      <td>104</td>\n",
       "      <td>105</td>\n",
       "      <td>103</td>\n",
       "      <td>1.0</td>\n",
       "    </tr>\n",
       "    <tr>\n",
       "      <th>199</th>\n",
       "      <td>137</td>\n",
       "      <td>132</td>\n",
       "      <td>133</td>\n",
       "      <td>133</td>\n",
       "      <td>128</td>\n",
       "      <td>129</td>\n",
       "      <td>142</td>\n",
       "      <td>137</td>\n",
       "      <td>138</td>\n",
       "      <td>141</td>\n",
       "      <td>...</td>\n",
       "      <td>147</td>\n",
       "      <td>142</td>\n",
       "      <td>141</td>\n",
       "      <td>149</td>\n",
       "      <td>144</td>\n",
       "      <td>143</td>\n",
       "      <td>149</td>\n",
       "      <td>144</td>\n",
       "      <td>143</td>\n",
       "      <td>1.0</td>\n",
       "    </tr>\n",
       "  </tbody>\n",
       "</table>\n",
       "<p>5 rows × 12289 columns</p>\n",
       "</div>"
      ],
      "text/plain": [
       "    Pixel 0 Pixel 1 Pixel 2 Pixel 3 Pixel 4 Pixel 5 Pixel 6 Pixel 7 Pixel 8  \\\n",
       "195     152     152     168     147     147     163     144     144     160   \n",
       "196     116     117     127     119     120     130     119     120     130   \n",
       "197     129     128     144     117     116     132     129     128     144   \n",
       "198     144     150     149     144     150     149     142     148     147   \n",
       "199     137     132     133     133     128     129     142     137     138   \n",
       "\n",
       "    Pixel 9  ... Pixel 12279 Pixel 12280 Pixel 12281 Pixel 12282 Pixel 12283  \\\n",
       "195     145  ...          81          87         110          82          88   \n",
       "196     115  ...         142         138         149         148         144   \n",
       "197     123  ...         153         147         164         156         150   \n",
       "198     142  ...         102         103         101         102         103   \n",
       "199     141  ...         147         142         141         149         144   \n",
       "\n",
       "    Pixel 12284 Pixel 12285 Pixel 12286 Pixel 12287 Category  \n",
       "195         111          75          81         104      1.0  \n",
       "196         155         143         139         150      1.0  \n",
       "197         167         149         143         160      1.0  \n",
       "198         101         104         105         103      1.0  \n",
       "199         143         149         144         143      1.0  \n",
       "\n",
       "[5 rows x 12289 columns]"
      ]
     },
     "execution_count": 8,
     "metadata": {},
     "output_type": "execute_result"
    }
   ],
   "source": [
    "master_df.tail()"
   ]
  },
  {
   "cell_type": "code",
   "execution_count": 9,
   "metadata": {},
   "outputs": [
    {
     "data": {
      "text/plain": [
       "(7552, 12289)"
      ]
     },
     "execution_count": 9,
     "metadata": {},
     "output_type": "execute_result"
    }
   ],
   "source": [
    "master_df.shape"
   ]
  },
  {
   "cell_type": "code",
   "execution_count": 10,
   "metadata": {},
   "outputs": [
    {
     "data": {
      "text/plain": [
       "(7552, 12288)"
      ]
     },
     "execution_count": 10,
     "metadata": {},
     "output_type": "execute_result"
    }
   ],
   "source": [
    "X = master_df[master_df.columns[0:-1]].to_numpy()\n",
    "X.shape"
   ]
  },
  {
   "cell_type": "code",
   "execution_count": 11,
   "metadata": {},
   "outputs": [
    {
     "data": {
      "text/plain": [
       "(7552, 1)"
      ]
     },
     "execution_count": 11,
     "metadata": {},
     "output_type": "execute_result"
    }
   ],
   "source": [
    "y = master_df[['Category']].to_numpy()\n",
    "y.shape"
   ]
  },
  {
   "cell_type": "code",
   "execution_count": 12,
   "metadata": {},
   "outputs": [
    {
     "name": "stdout",
     "output_type": "stream",
     "text": [
      "(6041, 12288)\n",
      "(1511, 12288)\n",
      "(6041,)\n",
      "(1511,)\n"
     ]
    }
   ],
   "source": [
    "X_train, X_test, y_train, y_test = train_test_split(X, y, test_size=0.2, random_state=42)\n",
    "print(X_train.shape)\n",
    "print(X_test.shape)\n",
    "y_train = y_train.flatten()\n",
    "y_test = y_test.flatten()\n",
    "print(y_train.shape)\n",
    "print(y_test.shape)"
   ]
  },
  {
   "cell_type": "code",
   "execution_count": 13,
   "metadata": {},
   "outputs": [],
   "source": [
    "scaler = StandardScaler()\n",
    "X_train = scaler.fit_transform(X_train)\n",
    "X_test = scaler.transform(X_test)"
   ]
  },
  {
   "cell_type": "markdown",
   "metadata": {},
   "source": [
    "### Logistic Regression using solver as 'liblinear' "
   ]
  },
  {
   "cell_type": "code",
   "execution_count": 14,
   "metadata": {},
   "outputs": [
    {
     "data": {
      "text/plain": [
       "LogisticRegression(C=1.0, class_weight=None, dual=False, fit_intercept=True,\n",
       "                   intercept_scaling=1, l1_ratio=None, max_iter=100,\n",
       "                   multi_class='ovr', n_jobs=None, penalty='l2',\n",
       "                   random_state=42, solver='liblinear', tol=0.0001, verbose=0,\n",
       "                   warm_start=False)"
      ]
     },
     "execution_count": 14,
     "metadata": {},
     "output_type": "execute_result"
    }
   ],
   "source": [
    "logistic_classifer1 = LogisticRegression(solver = 'liblinear', multi_class = 'ovr', random_state = 42)\n",
    "logistic_classifer1.fit(X_train, y_train)"
   ]
  },
  {
   "cell_type": "code",
   "execution_count": 15,
   "metadata": {},
   "outputs": [],
   "source": [
    "y_pred_train = logistic_classifer1.predict(X_train)\n",
    "y_pred_test = logistic_classifer1.predict(X_test)"
   ]
  },
  {
   "cell_type": "code",
   "execution_count": 16,
   "metadata": {},
   "outputs": [
    {
     "name": "stdout",
     "output_type": "stream",
     "text": [
      "Training Accuracy:\n",
      "1.0\n",
      "\n",
      "Test Accuracy:\n",
      "0.771674387822634\n"
     ]
    }
   ],
   "source": [
    "print(\"Training Accuracy:\")\n",
    "print(accuracy_score(y_train, y_pred_train))\n",
    "print()\n",
    "print(\"Test Accuracy:\")\n",
    "print(accuracy_score(y_test, y_pred_test))"
   ]
  },
  {
   "cell_type": "code",
   "execution_count": 17,
   "metadata": {},
   "outputs": [
    {
     "name": "stdout",
     "output_type": "stream",
     "text": [
      "[[305 137]\n",
      " [208 861]]\n"
     ]
    }
   ],
   "source": [
    "error_matrix = confusion_matrix(y_test, y_pred_test)\n",
    "print(error_matrix)"
   ]
  },
  {
   "cell_type": "markdown",
   "metadata": {},
   "source": [
    "### Logistic Regression using solver as 'lbfgs'  "
   ]
  },
  {
   "cell_type": "code",
   "execution_count": 18,
   "metadata": {},
   "outputs": [
    {
     "data": {
      "text/plain": [
       "LogisticRegression(C=1.0, class_weight=None, dual=False, fit_intercept=True,\n",
       "                   intercept_scaling=1, l1_ratio=None, max_iter=200,\n",
       "                   multi_class='ovr', n_jobs=-1, penalty='l2', random_state=42,\n",
       "                   solver='lbfgs', tol=0.0001, verbose=0, warm_start=False)"
      ]
     },
     "execution_count": 18,
     "metadata": {},
     "output_type": "execute_result"
    }
   ],
   "source": [
    "logistic_classifer2 = LogisticRegression(solver = 'lbfgs', max_iter = 200, n_jobs = -1, multi_class = 'ovr', random_state = 42)\n",
    "logistic_classifer2.fit(X_train, y_train)"
   ]
  },
  {
   "cell_type": "code",
   "execution_count": 19,
   "metadata": {},
   "outputs": [],
   "source": [
    "y_pred_train = logistic_classifer2.predict(X_train)\n",
    "y_pred_test = logistic_classifer2.predict(X_test)"
   ]
  },
  {
   "cell_type": "code",
   "execution_count": 20,
   "metadata": {},
   "outputs": [
    {
     "name": "stdout",
     "output_type": "stream",
     "text": [
      "Training Accuracy:\n",
      "1.0\n",
      "\n",
      "Test Accuracy:\n",
      "0.7921906022501655\n"
     ]
    }
   ],
   "source": [
    "print(\"Training Accuracy:\")\n",
    "print(accuracy_score(y_train, y_pred_train))\n",
    "print()\n",
    "print(\"Test Accuracy:\")\n",
    "print(accuracy_score(y_test, y_pred_test))"
   ]
  },
  {
   "cell_type": "code",
   "execution_count": 21,
   "metadata": {},
   "outputs": [
    {
     "name": "stdout",
     "output_type": "stream",
     "text": [
      "[[297 145]\n",
      " [169 900]]\n"
     ]
    }
   ],
   "source": [
    "error_matrix = confusion_matrix(y_test, y_pred_test)\n",
    "print(error_matrix)"
   ]
  },
  {
   "cell_type": "markdown",
   "metadata": {},
   "source": [
    "### Using PCA "
   ]
  },
  {
   "cell_type": "code",
   "execution_count": 22,
   "metadata": {},
   "outputs": [],
   "source": [
    "pca = PCA(0.95)"
   ]
  },
  {
   "cell_type": "code",
   "execution_count": 23,
   "metadata": {},
   "outputs": [],
   "source": [
    "pca.fit(X_train)\n",
    "\n",
    "X_train_pca = pca.transform(X_train)\n",
    "X_test_pca = pca.transform(X_test)"
   ]
  },
  {
   "cell_type": "code",
   "execution_count": 24,
   "metadata": {},
   "outputs": [
    {
     "name": "stdout",
     "output_type": "stream",
     "text": [
      "(6041, 1139)\n",
      "(1511, 1139)\n"
     ]
    }
   ],
   "source": [
    "print(X_train_pca.shape)\n",
    "print(X_test_pca.shape)"
   ]
  },
  {
   "cell_type": "markdown",
   "metadata": {},
   "source": [
    "### Logistic Regression with PCA and solver as 'lbfgs'  "
   ]
  },
  {
   "cell_type": "code",
   "execution_count": 25,
   "metadata": {},
   "outputs": [
    {
     "data": {
      "text/plain": [
       "LogisticRegression(C=1.0, class_weight=None, dual=False, fit_intercept=True,\n",
       "                   intercept_scaling=1, l1_ratio=None, max_iter=200,\n",
       "                   multi_class='ovr', n_jobs=-1, penalty='l2', random_state=42,\n",
       "                   solver='lbfgs', tol=0.0001, verbose=0, warm_start=False)"
      ]
     },
     "execution_count": 25,
     "metadata": {},
     "output_type": "execute_result"
    }
   ],
   "source": [
    "logistic_classifer3 = LogisticRegression(solver = 'lbfgs', max_iter = 200, n_jobs = -1, multi_class = 'ovr', random_state = 42)\n",
    "logistic_classifer3.fit(X_train_pca, y_train)"
   ]
  },
  {
   "cell_type": "code",
   "execution_count": 26,
   "metadata": {},
   "outputs": [],
   "source": [
    "y_pred_train = logistic_classifer3.predict(X_train_pca)\n",
    "y_pred_test = logistic_classifer3.predict(X_test_pca)"
   ]
  },
  {
   "cell_type": "code",
   "execution_count": 27,
   "metadata": {},
   "outputs": [
    {
     "name": "stdout",
     "output_type": "stream",
     "text": [
      "Training Accuracy:\n",
      "0.899685482536004\n",
      "\n",
      "Test Accuracy:\n",
      "0.8027796161482462\n"
     ]
    }
   ],
   "source": [
    "print(\"Training Accuracy:\")\n",
    "print(accuracy_score(y_train, y_pred_train))\n",
    "print()\n",
    "print(\"Test Accuracy:\")\n",
    "print(accuracy_score(y_test, y_pred_test))"
   ]
  },
  {
   "cell_type": "code",
   "execution_count": 28,
   "metadata": {},
   "outputs": [
    {
     "name": "stdout",
     "output_type": "stream",
     "text": [
      "[[299 143]\n",
      " [155 914]]\n"
     ]
    }
   ],
   "source": [
    "error_matrix = confusion_matrix(y_test, y_pred_test)\n",
    "print(error_matrix)"
   ]
  },
  {
   "cell_type": "code",
   "execution_count": 32,
   "metadata": {},
   "outputs": [
    {
     "name": "stdout",
     "output_type": "stream",
     "text": [
      "epoch:  25\n",
      "epoch:  50\n",
      "epoch:  75\n",
      "epoch:  100\n",
      "epoch:  125\n",
      "epoch:  150\n",
      "epoch:  175\n",
      "epoch:  200\n"
     ]
    },
    {
     "data": {
      "image/png": "[encoded data removed]",
      "text/plain": [
       "<Figure size 1440x720 with 1 Axes>"
      ]
     },
     "metadata": {
      "needs_background": "light"
     },
     "output_type": "display_data"
    }
   ],
   "source": [
    "N_EPOCHS = 200\n",
    "scores_train = []\n",
    "scores_test = []\n",
    "\n",
    "epoch = 25\n",
    "while epoch <= N_EPOCHS:\n",
    "    print('epoch: ', epoch)\n",
    "    \n",
    "    logistic_classifer3 = LogisticRegression(solver = 'lbfgs', max_iter = epoch, n_jobs = -1, multi_class = 'ovr', random_state = 42)\n",
    "    logistic_classifer3.fit(X_train_pca, y_train)\n",
    "    \n",
    "    scores_train.append(logistic_classifer3.score(X_train_pca, y_train))\n",
    "    scores_test.append(logistic_classifer3.score(X_test_pca, y_test))\n",
    "\n",
    "    epoch += 25\n",
    "    \n",
    "epochs = np.linspace(25, 200, num = 8)\n",
    "plt.figure(figsize=(20,10))\n",
    "plt.plot(epochs, scores_train, 'b', label = 'Train Set')\n",
    "plt.plot(epochs, scores_test, 'r', label = 'Test Set')\n",
    "plt.title(\"Accuracy over epochs\")\n",
    "plt.xlabel('Epochs')\n",
    "plt.ylabel('Accuracy')\n",
    "plt.legend(loc=\"upper left\")\n",
    "plt.show()"
   ]
  },
  {
   "cell_type": "code",
   "execution_count": null,
   "metadata": {},
   "outputs": [],
   "source": []
  }
 ],
 "metadata": {
  "kernelspec": {
   "display_name": "Python 3",
   "language": "python",
   "name": "python3"
  },
  "language_info": {
   "codemirror_mode": {
    "name": "ipython",
    "version": 3
   },
   "file_extension": ".py",
   "mimetype": "text/x-python",
   "name": "python",
   "nbconvert_exporter": "python",
   "pygments_lexer": "ipython3",
   "version": "3.7.1"
  }
 },
 "nbformat": 4,
 "nbformat_minor": 4
}
